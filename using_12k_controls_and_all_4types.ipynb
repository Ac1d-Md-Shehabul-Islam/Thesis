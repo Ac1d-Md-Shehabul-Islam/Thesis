{
  "nbformat": 4,
  "nbformat_minor": 0,
  "metadata": {
    "colab": {
      "name": "using_12k_controls_and_all_4types.ipynb",
      "provenance": [],
      "collapsed_sections": []
    },
    "kernelspec": {
      "name": "python3",
      "display_name": "Python 3"
    }
  },
  "cells": [
    {
      "cell_type": "code",
      "metadata": {
        "id": "KhVSUjVcpXGv",
        "colab": {
          "base_uri": "https://localhost:8080/"
        },
        "outputId": "b3eb606e-6a04-4aab-8bf0-85908b30aff5"
      },
      "source": [
        "pip install ijson"
      ],
      "execution_count": null,
      "outputs": [
        {
          "output_type": "stream",
          "text": [
            "Collecting ijson\n",
            "\u001b[?25l  Downloading https://files.pythonhosted.org/packages/36/1a/9fc33cd48d8dce8d9a155010fb3c334f9baeb8a3809b30d62bfbe88fb333/ijson-3.1.3-cp36-cp36m-manylinux2010_x86_64.whl (127kB)\n",
            "\r\u001b[K     |██▋                             | 10kB 18.1MB/s eta 0:00:01\r\u001b[K     |█████▏                          | 20kB 25.3MB/s eta 0:00:01\r\u001b[K     |███████▊                        | 30kB 17.9MB/s eta 0:00:01\r\u001b[K     |██████████▎                     | 40kB 17.5MB/s eta 0:00:01\r\u001b[K     |████████████▉                   | 51kB 15.8MB/s eta 0:00:01\r\u001b[K     |███████████████▍                | 61kB 16.2MB/s eta 0:00:01\r\u001b[K     |██████████████████              | 71kB 12.5MB/s eta 0:00:01\r\u001b[K     |████████████████████▌           | 81kB 12.2MB/s eta 0:00:01\r\u001b[K     |███████████████████████▏        | 92kB 11.7MB/s eta 0:00:01\r\u001b[K     |█████████████████████████▊      | 102kB 11.4MB/s eta 0:00:01\r\u001b[K     |████████████████████████████▎   | 112kB 11.4MB/s eta 0:00:01\r\u001b[K     |██████████████████████████████▉ | 122kB 11.4MB/s eta 0:00:01\r\u001b[K     |████████████████████████████████| 133kB 11.4MB/s \n",
            "\u001b[?25hInstalling collected packages: ijson\n",
            "Successfully installed ijson-3.1.3\n"
          ],
          "name": "stdout"
        }
      ]
    },
    {
      "cell_type": "code",
      "metadata": {
        "id": "0lzrqJNmaSUI"
      },
      "source": [
        "from google.colab import drive\n",
        "drive.mount('/content/drive')"
      ],
      "execution_count": null,
      "outputs": []
    },
    {
      "cell_type": "code",
      "metadata": {
        "id": "15cDgGylPYZr"
      },
      "source": [
        "# or val=='control'\n",
        "def check(val):\n",
        "  return (val=='depression' or val=='ptsd' or val=='schizophrenia' or val=='bipolar')"
      ],
      "execution_count": null,
      "outputs": []
    },
    {
      "cell_type": "code",
      "metadata": {
        "id": "MdgiiTm_Pyhj"
      },
      "source": [
        "print(check('schizophrenia'))"
      ],
      "execution_count": null,
      "outputs": []
    },
    {
      "cell_type": "code",
      "metadata": {
        "id": "XKnwZ6ob4p7r"
      },
      "source": [
        "import pandas as pd\n",
        "import collections\n",
        "import ijson\n",
        "#from sklearn.feature_extraction.text import CountVectorizer\n",
        "#from sklearn.feature_extraction.text import TfidfTransformer"
      ],
      "execution_count": null,
      "outputs": []
    },
    {
      "cell_type": "code",
      "metadata": {
        "id": "0sTBQntmpkBi"
      },
      "source": [
        "posts=[]\n",
        "labels=[]\n",
        "# c=0\n",
        "with open(\"/content/drive/MyDrive/Thesis Papers/SMHD/train.jl\", \"rb\") as f:\n",
        "  for line in f:\n",
        "    # c=c+1\n",
        "    # if(c==20):\n",
        "    #   break\n",
        "    item = ijson.items(line,'posts.item.text',multiple_values=True)\n",
        "    \n",
        "    label = ijson.items(line,'label',multiple_values=True)\n",
        "    for j in label:\n",
        "      if(len(j)==2):\n",
        "        for val in j:\n",
        "          if(check(val)):\n",
        "            labels.append(val)\n",
        "            s=\"\"\n",
        "            space=\" \"\n",
        "            for i in item:\n",
        "              s=s+space+i\n",
        "            posts.append(s)\n",
        "      else:\n",
        "        if(check(j[0])):\n",
        "          # if(j[0]==\"control\"):\n",
        "          #   c=c+1\n",
        "          # if(c>12000):\n",
        "          #   continue\n",
        "          labels.append(j[0])\n",
        "          s=\"\"\n",
        "          space=\" \"\n",
        "          for i in item:\n",
        "            s=s+space+i\n",
        "          posts.append(s)"
      ],
      "execution_count": null,
      "outputs": []
    },
    {
      "cell_type": "code",
      "metadata": {
        "id": "gLEVn9fjpjtY",
        "colab": {
          "base_uri": "https://localhost:8080/",
          "height": 343
        },
        "outputId": "a6de98ac-4782-454c-88a7-580e8b993578"
      },
      "source": [
        "df = pd.DataFrame({\"Label\": labels,\"Posts\": posts})\n",
        "\n",
        "df.head(10)"
      ],
      "execution_count": null,
      "outputs": [
        {
          "output_type": "execute_result",
          "data": {
            "text/html": [
              "<div>\n",
              "<style scoped>\n",
              "    .dataframe tbody tr th:only-of-type {\n",
              "        vertical-align: middle;\n",
              "    }\n",
              "\n",
              "    .dataframe tbody tr th {\n",
              "        vertical-align: top;\n",
              "    }\n",
              "\n",
              "    .dataframe thead th {\n",
              "        text-align: right;\n",
              "    }\n",
              "</style>\n",
              "<table border=\"1\" class=\"dataframe\">\n",
              "  <thead>\n",
              "    <tr style=\"text-align: right;\">\n",
              "      <th></th>\n",
              "      <th>Label</th>\n",
              "      <th>Posts</th>\n",
              "    </tr>\n",
              "  </thead>\n",
              "  <tbody>\n",
              "    <tr>\n",
              "      <th>0</th>\n",
              "      <td>bipolar</td>\n",
              "      <td>Because your workplace should be responsible ...</td>\n",
              "    </tr>\n",
              "    <tr>\n",
              "      <th>1</th>\n",
              "      <td>depression</td>\n",
              "      <td>I second that Yeah they were kick-ass last ye...</td>\n",
              "    </tr>\n",
              "    <tr>\n",
              "      <th>2</th>\n",
              "      <td>ptsd</td>\n",
              "      <td>Gollywogs.. *shivers* I'm not sure if this ap...</td>\n",
              "    </tr>\n",
              "    <tr>\n",
              "      <th>3</th>\n",
              "      <td>depression</td>\n",
              "      <td>I was a lesbian/bisexual (it was quite hard t...</td>\n",
              "    </tr>\n",
              "    <tr>\n",
              "      <th>4</th>\n",
              "      <td>ptsd</td>\n",
              "      <td>Drinking + smoking weed puts you on your ass ...</td>\n",
              "    </tr>\n",
              "    <tr>\n",
              "      <th>5</th>\n",
              "      <td>depression</td>\n",
              "      <td>I see where you're coming from, and I'm judg...</td>\n",
              "    </tr>\n",
              "    <tr>\n",
              "      <th>6</th>\n",
              "      <td>depression</td>\n",
              "      <td>I'm into a bit of BDSM, not really intense bu...</td>\n",
              "    </tr>\n",
              "    <tr>\n",
              "      <th>7</th>\n",
              "      <td>depression</td>\n",
              "      <td>That \"I\" (I being every one of us including m...</td>\n",
              "    </tr>\n",
              "    <tr>\n",
              "      <th>8</th>\n",
              "      <td>depression</td>\n",
              "      <td>[Do you want to know more?](https://en.wikip...</td>\n",
              "    </tr>\n",
              "    <tr>\n",
              "      <th>9</th>\n",
              "      <td>bipolar</td>\n",
              "      <td>Yup, hence the whole Android article when he'...</td>\n",
              "    </tr>\n",
              "  </tbody>\n",
              "</table>\n",
              "</div>"
            ],
            "text/plain": [
              "        Label                                              Posts\n",
              "0     bipolar   Because your workplace should be responsible ...\n",
              "1  depression   I second that Yeah they were kick-ass last ye...\n",
              "2        ptsd   Gollywogs.. *shivers* I'm not sure if this ap...\n",
              "3  depression   I was a lesbian/bisexual (it was quite hard t...\n",
              "4        ptsd   Drinking + smoking weed puts you on your ass ...\n",
              "5  depression    I see where you're coming from, and I'm judg...\n",
              "6  depression   I'm into a bit of BDSM, not really intense bu...\n",
              "7  depression   That \"I\" (I being every one of us including m...\n",
              "8  depression    [Do you want to know more?](https://en.wikip...\n",
              "9     bipolar   Yup, hence the whole Android article when he'..."
            ]
          },
          "metadata": {
            "tags": []
          },
          "execution_count": 36
        }
      ]
    },
    {
      "cell_type": "code",
      "metadata": {
        "colab": {
          "base_uri": "https://localhost:8080/"
        },
        "id": "Pfa3BMqPXJ_S",
        "outputId": "9ef2b133-566f-4373-98f7-1bb492f29993"
      },
      "source": [
        "df[\"Label\"].value_counts()"
      ],
      "execution_count": null,
      "outputs": [
        {
          "output_type": "execute_result",
          "data": {
            "text/plain": [
              "depression       2305\n",
              "bipolar          1062\n",
              "ptsd              411\n",
              "schizophrenia     198\n",
              "Name: Label, dtype: int64"
            ]
          },
          "metadata": {
            "tags": []
          },
          "execution_count": 37
        }
      ]
    },
    {
      "cell_type": "code",
      "metadata": {
        "id": "BHzIRZxoJOpT"
      },
      "source": [
        "# filter1=df[\"Label\"].isin([\"bipolar\",\"depression\"])\n",
        "# newdf=df[filter1]"
      ],
      "execution_count": null,
      "outputs": []
    },
    {
      "cell_type": "code",
      "metadata": {
        "id": "cSsLEsZ4JRM7"
      },
      "source": [
        "x=df[\"Posts\"]\n",
        "y=df[\"Label\"]"
      ],
      "execution_count": null,
      "outputs": []
    },
    {
      "cell_type": "code",
      "metadata": {
        "id": "KY46Wi7tJWGz"
      },
      "source": [
        "from sklearn.model_selection import train_test_split"
      ],
      "execution_count": null,
      "outputs": []
    },
    {
      "cell_type": "code",
      "metadata": {
        "id": "qUFNJfJ5JahK"
      },
      "source": [
        "x_train,x_test,y_train,y_test=train_test_split(x,y,test_size=0.3,random_state=42)"
      ],
      "execution_count": null,
      "outputs": []
    },
    {
      "cell_type": "code",
      "metadata": {
        "id": "6IBEOU7fJeEi"
      },
      "source": [
        "from sklearn.pipeline import Pipeline\n",
        "from sklearn.feature_extraction.text import TfidfVectorizer\n",
        "from sklearn.svm import SVC\n",
        "from sklearn import metrics"
      ],
      "execution_count": null,
      "outputs": []
    },
    {
      "cell_type": "code",
      "metadata": {
        "id": "schGXD7JK-ey"
      },
      "source": [
        "from sklearn.naive_bayes import MultinomialNB\n",
        "from sklearn.feature_extraction.text import CountVectorizer\n",
        "from sklearn.feature_extraction.text import TfidfTransformer"
      ],
      "execution_count": null,
      "outputs": []
    },
    {
      "cell_type": "markdown",
      "metadata": {
        "id": "PrY2As0Dz1x-"
      },
      "source": [
        "# MultinomialNB"
      ]
    },
    {
      "cell_type": "code",
      "metadata": {
        "id": "RC-P6edhJgur"
      },
      "source": [
        "text_clf = Pipeline([('vect', CountVectorizer()),('tfidf', TfidfTransformer()),('clf', MultinomialNB()),])\n",
        "text_clf = text_clf.fit(x_train, y_train)"
      ],
      "execution_count": null,
      "outputs": []
    },
    {
      "cell_type": "code",
      "metadata": {
        "id": "CrSOMyU4KDQR"
      },
      "source": [
        "predictions = text_clf.predict(x_test)"
      ],
      "execution_count": null,
      "outputs": []
    },
    {
      "cell_type": "code",
      "metadata": {
        "colab": {
          "base_uri": "https://localhost:8080/"
        },
        "id": "B_vwbZiZKSE2",
        "outputId": "39ddbb90-7056-4058-8575-030393fa6d3b"
      },
      "source": [
        "print(metrics.confusion_matrix(y_test,predictions))"
      ],
      "execution_count": null,
      "outputs": [
        {
          "output_type": "stream",
          "text": [
            "[[  0 316   0   0]\n",
            " [  0 702   0   0]\n",
            " [  0 124   0   0]\n",
            " [  0  51   0   0]]\n"
          ],
          "name": "stdout"
        }
      ]
    },
    {
      "cell_type": "code",
      "metadata": {
        "colab": {
          "base_uri": "https://localhost:8080/"
        },
        "id": "4HB8XrfyKVzt",
        "outputId": "c56b8715-9eab-4183-c4ac-26318ce1fb91"
      },
      "source": [
        "print(metrics.classification_report(y_test,predictions))"
      ],
      "execution_count": null,
      "outputs": [
        {
          "output_type": "stream",
          "text": [
            "               precision    recall  f1-score   support\n",
            "\n",
            "      bipolar       0.00      0.00      0.00       316\n",
            "   depression       0.59      1.00      0.74       702\n",
            "         ptsd       0.00      0.00      0.00       124\n",
            "schizophrenia       0.00      0.00      0.00        51\n",
            "\n",
            "     accuracy                           0.59      1193\n",
            "    macro avg       0.15      0.25      0.19      1193\n",
            " weighted avg       0.35      0.59      0.44      1193\n",
            "\n"
          ],
          "name": "stdout"
        },
        {
          "output_type": "stream",
          "text": [
            "/usr/local/lib/python3.6/dist-packages/sklearn/metrics/_classification.py:1272: UndefinedMetricWarning: Precision and F-score are ill-defined and being set to 0.0 in labels with no predicted samples. Use `zero_division` parameter to control this behavior.\n",
            "  _warn_prf(average, modifier, msg_start, len(result))\n"
          ],
          "name": "stderr"
        }
      ]
    },
    {
      "cell_type": "code",
      "metadata": {
        "colab": {
          "base_uri": "https://localhost:8080/"
        },
        "id": "Bue-4qTYLSgm",
        "outputId": "005719eb-6c87-4860-bf52-8e3d99e5f9fb"
      },
      "source": [
        "print(metrics.accuracy_score(y_test,predictions))"
      ],
      "execution_count": null,
      "outputs": [
        {
          "output_type": "stream",
          "text": [
            "0.5884325230511316\n"
          ],
          "name": "stdout"
        }
      ]
    },
    {
      "cell_type": "code",
      "metadata": {
        "id": "3HwNDGdvkxhx"
      },
      "source": [
        "s1=[]\n",
        "s1.append(df.iloc[58,1])"
      ],
      "execution_count": null,
      "outputs": []
    },
    {
      "cell_type": "code",
      "metadata": {
        "colab": {
          "base_uri": "https://localhost:8080/"
        },
        "id": "qJkLkN9TlL0h",
        "outputId": "1c3dafc1-30bd-4dd2-bfcf-8bd449afa26c"
      },
      "source": [
        "text_clf.predict(s1)"
      ],
      "execution_count": null,
      "outputs": [
        {
          "output_type": "execute_result",
          "data": {
            "text/plain": [
              "array(['depression'], dtype='<U13')"
            ]
          },
          "metadata": {
            "tags": []
          },
          "execution_count": 31
        }
      ]
    },
    {
      "cell_type": "markdown",
      "metadata": {
        "id": "5bzzUz9Zz8BN"
      },
      "source": [
        "# SVM"
      ]
    },
    {
      "cell_type": "code",
      "metadata": {
        "id": "udG9H-lx1d6l"
      },
      "source": [
        "from sklearn.linear_model import SGDClassifier"
      ],
      "execution_count": null,
      "outputs": []
    },
    {
      "cell_type": "code",
      "metadata": {
        "id": "AB4qWkqRlsFZ"
      },
      "source": [
        "text_clf_svm = Pipeline([('vect', CountVectorizer()),('tfidf', TfidfTransformer()),('clf-svm', SGDClassifier(loss='hinge', penalty='l2',alpha=1e-3, random_state=42)),])"
      ],
      "execution_count": null,
      "outputs": []
    },
    {
      "cell_type": "code",
      "metadata": {
        "id": "nGimLClD2D1l"
      },
      "source": [
        "text_clf_svm = text_clf_svm.fit(x_train, y_train)"
      ],
      "execution_count": null,
      "outputs": []
    },
    {
      "cell_type": "code",
      "metadata": {
        "id": "Oi3u8yDy2zmt"
      },
      "source": [
        "import numpy as np"
      ],
      "execution_count": null,
      "outputs": []
    },
    {
      "cell_type": "code",
      "metadata": {
        "colab": {
          "base_uri": "https://localhost:8080/"
        },
        "id": "BzgNLiN72fIM",
        "outputId": "d9c20266-2483-441c-a83f-a8c7205a3afd"
      },
      "source": [
        "predicted_svm = text_clf_svm.predict(x_test)\n",
        "np.mean(predicted_svm == y_test)"
      ],
      "execution_count": null,
      "outputs": [
        {
          "output_type": "execute_result",
          "data": {
            "text/plain": [
              "0.5884325230511316"
            ]
          },
          "metadata": {
            "tags": []
          },
          "execution_count": 52
        }
      ]
    },
    {
      "cell_type": "code",
      "metadata": {
        "id": "O-TZXyUK2vsd"
      },
      "source": [
        ""
      ],
      "execution_count": null,
      "outputs": []
    }
  ]
}