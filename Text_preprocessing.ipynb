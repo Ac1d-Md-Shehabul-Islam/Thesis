{
  "nbformat": 4,
  "nbformat_minor": 0,
  "metadata": {
    "colab": {
      "name": "Text preprocessing.ipynb",
      "provenance": []
    },
    "kernelspec": {
      "name": "python3",
      "display_name": "Python 3"
    },
    "language_info": {
      "name": "python"
    }
  },
  "cells": [
    {
      "cell_type": "code",
      "metadata": {
        "colab": {
          "base_uri": "https://localhost:8080/"
        },
        "id": "xc4yUOfovXgc",
        "outputId": "1c421d91-fdbf-4b13-996a-52172a52a71f"
      },
      "source": [
        "pip install ijson"
      ],
      "execution_count": null,
      "outputs": [
        {
          "output_type": "stream",
          "text": [
            "Collecting ijson\n",
            "\u001b[?25l  Downloading https://files.pythonhosted.org/packages/b3/0c/e3b7bf52e23345d5f9a6a3ff6de0cad419c96491893ab60cbbe9161644a8/ijson-3.1.4-cp37-cp37m-manylinux2010_x86_64.whl (126kB)\n",
            "\r\u001b[K     |██▋                             | 10kB 11.0MB/s eta 0:00:01\r\u001b[K     |█████▏                          | 20kB 15.0MB/s eta 0:00:01\r\u001b[K     |███████▉                        | 30kB 13.4MB/s eta 0:00:01\r\u001b[K     |██████████▍                     | 40kB 11.9MB/s eta 0:00:01\r\u001b[K     |█████████████                   | 51kB 13.5MB/s eta 0:00:01\r\u001b[K     |███████████████▋                | 61kB 15.3MB/s eta 0:00:01\r\u001b[K     |██████████████████▏             | 71kB 13.2MB/s eta 0:00:01\r\u001b[K     |████████████████████▊           | 81kB 12.8MB/s eta 0:00:01\r\u001b[K     |███████████████████████▍        | 92kB 13.8MB/s eta 0:00:01\r\u001b[K     |██████████████████████████      | 102kB 12.9MB/s eta 0:00:01\r\u001b[K     |████████████████████████████▌   | 112kB 12.9MB/s eta 0:00:01\r\u001b[K     |███████████████████████████████▏| 122kB 12.9MB/s eta 0:00:01\r\u001b[K     |████████████████████████████████| 133kB 12.9MB/s \n",
            "\u001b[?25hInstalling collected packages: ijson\n",
            "Successfully installed ijson-3.1.4\n"
          ],
          "name": "stdout"
        }
      ]
    },
    {
      "cell_type": "code",
      "metadata": {
        "id": "TlKWn5ndveai"
      },
      "source": [
        "import ijson\n",
        "import pandas as pd\n",
        "import numpy as np\n",
        "from collections import Counter\n",
        "import random"
      ],
      "execution_count": null,
      "outputs": []
    },
    {
      "cell_type": "code",
      "metadata": {
        "id": "sFc7KSXKLr02"
      },
      "source": [
        "from nltk.corpus import stopwords\n",
        "from wordcloud import WordCloud, STOPWORDS\n",
        "import spacy"
      ],
      "execution_count": null,
      "outputs": []
    },
    {
      "cell_type": "code",
      "metadata": {
        "colab": {
          "base_uri": "https://localhost:8080/"
        },
        "id": "CzcWzpazSpwV",
        "outputId": "a9627bfa-b7f4-498a-be92-873210ba1df9"
      },
      "source": [
        "import nltk\n",
        "nltk.download('stopwords')"
      ],
      "execution_count": null,
      "outputs": [
        {
          "output_type": "stream",
          "text": [
            "[nltk_data] Downloading package stopwords to /root/nltk_data...\n",
            "[nltk_data]   Unzipping corpora/stopwords.zip.\n"
          ],
          "name": "stdout"
        },
        {
          "output_type": "execute_result",
          "data": {
            "text/plain": [
              "True"
            ]
          },
          "metadata": {
            "tags": []
          },
          "execution_count": 39
        }
      ]
    },
    {
      "cell_type": "code",
      "metadata": {
        "id": "rVpXE65_Musk"
      },
      "source": [
        "nlp = spacy.load('en', disable=['parser', 'ner'])"
      ],
      "execution_count": null,
      "outputs": []
    },
    {
      "cell_type": "code",
      "metadata": {
        "id": "rWJqEbD4expj"
      },
      "source": [
        "def check(val):\n",
        "  return (val=='depression' or val=='ptsd' or val=='schizophrenia' or val=='bipolar') # or val == 'control'"
      ],
      "execution_count": null,
      "outputs": []
    },
    {
      "cell_type": "code",
      "metadata": {
        "id": "bvdWmPPGhrkh"
      },
      "source": [
        "import re"
      ],
      "execution_count": null,
      "outputs": []
    },
    {
      "cell_type": "code",
      "metadata": {
        "id": "Lq54-800hqVM"
      },
      "source": [
        "TAG_RE = re.compile(r'<[^>]+>')\n",
        "\n",
        "def remove_tags(text):\n",
        "  return TAG_RE.sub('', text)"
      ],
      "execution_count": null,
      "outputs": []
    },
    {
      "cell_type": "code",
      "metadata": {
        "id": "3K7n0JS6Okds"
      },
      "source": [
        "def remove_emoji(text):\n",
        "    emoji_pattern = re.compile(\"[\"\n",
        "                           u\"\\U0001F600-\\U0001F64F\"  # emoticons\n",
        "                           u\"\\U0001F300-\\U0001F5FF\"  # symbols & pictographs\n",
        "                           u\"\\U0001F680-\\U0001F6FF\"  # transport & map symbols\n",
        "                           u\"\\U0001F1E0-\\U0001F1FF\"  # flags \n",
        "                           u\"\\U00002702-\\U000027B0\"\n",
        "                           u\"\\U000024C2-\\U0001F251\"\n",
        "                           \"]+\", flags=re.UNICODE)\n",
        "    return emoji_pattern.sub(r'', text)"
      ],
      "execution_count": null,
      "outputs": []
    },
    {
      "cell_type": "code",
      "metadata": {
        "id": "_DVMl_S1Q-Nf"
      },
      "source": [
        "def stop_words_removal(text):\n",
        "  stop = stopwords.words('english')\n",
        "  return \" \".join(x for x in text.split() if x not in stop)"
      ],
      "execution_count": null,
      "outputs": []
    },
    {
      "cell_type": "code",
      "metadata": {
        "colab": {
          "base_uri": "https://localhost:8080/",
          "height": 35
        },
        "id": "ymYrwk07Saim",
        "outputId": "9a79a57b-d902-4854-c129-9d67b30b964b"
      },
      "source": [
        "stop_words_removal(\"i am an idoit, the fox jumps over the lazy brown dog\")"
      ],
      "execution_count": null,
      "outputs": [
        {
          "output_type": "execute_result",
          "data": {
            "application/vnd.google.colaboratory.intrinsic+json": {
              "type": "string"
            },
            "text/plain": [
              "'idoit, fox jumps lazy brown dog'"
            ]
          },
          "metadata": {
            "tags": []
          },
          "execution_count": 42
        }
      ]
    },
    {
      "cell_type": "code",
      "metadata": {
        "colab": {
          "base_uri": "https://localhost:8080/",
          "height": 35
        },
        "id": "XS_VWLhXU4f9",
        "outputId": "7bdabeeb-77b1-48f0-e6be-6d1192772590"
      },
      "source": [
        "from string import punctuation\n",
        "my_punctuation = punctuation.replace(\"?\", \"\")\n",
        "my_punctuation"
      ],
      "execution_count": null,
      "outputs": [
        {
          "output_type": "execute_result",
          "data": {
            "application/vnd.google.colaboratory.intrinsic+json": {
              "type": "string"
            },
            "text/plain": [
              "'!\"#$%&\\'()*+,-./:;<=>@[\\\\]^_`{|}~'"
            ]
          },
          "metadata": {
            "tags": []
          },
          "execution_count": 17
        }
      ]
    },
    {
      "cell_type": "code",
      "metadata": {
        "id": "Eskz-6-hVuhD"
      },
      "source": [
        "\"It's right, isn't it?\".translate(str.maketrans(\"\", \"\", my_punctuation))"
      ],
      "execution_count": null,
      "outputs": []
    },
    {
      "cell_type": "code",
      "metadata": {
        "id": "-dPfGP8ahnZ5"
      },
      "source": [
        "def preprocess_text(sen):\n",
        "  sen = sen.lower()\n",
        "  # Removing html tags\n",
        "  sentence = remove_tags(sen)\n",
        "\n",
        "  #removing emoji\n",
        "  sentence = remove_emoji(sentence)\n",
        "\n",
        "  #removing numbers\n",
        "  sentence = re.sub(r'\\d+', \"\", sentence)\n",
        "\n",
        "  #removing links\n",
        "  sentence = re.sub(r'https?://\\S+', '', sentence)\n",
        "\n",
        "  # Remove punctuations\n",
        "  sentence = re.sub(r'[^\\w\\s]', '', sentence)\n",
        "\n",
        "  # Single character removal\n",
        "  sentence = re.sub(r\"\\s+[a-zA-Z]\\s+\", ' ', sentence)\n",
        "\n",
        "  # Removing multiple spaces\n",
        "  sentence = re.sub(r'\\s+', ' ', sentence)\n",
        "\n",
        "  return sentence"
      ],
      "execution_count": null,
      "outputs": []
    },
    {
      "cell_type": "code",
      "metadata": {
        "colab": {
          "base_uri": "https://localhost:8080/",
          "height": 35
        },
        "id": "42G-3D9BNFCj",
        "outputId": "a0d20487-d82e-475d-95cf-b52f50c0f3c3"
      },
      "source": [
        "preprocess_text(\"❤ hello there 😚 😚 wAAAAAssup he i'm 5 years old the an i am fine!!!! @\\/??&*^$ %@~!\" )"
      ],
      "execution_count": null,
      "outputs": [
        {
          "output_type": "execute_result",
          "data": {
            "application/vnd.google.colaboratory.intrinsic+json": {
              "type": "string"
            },
            "text/plain": [
              "' hello there waaaaassup he im years old the an am fine '"
            ]
          },
          "metadata": {
            "tags": []
          },
          "execution_count": 8
        }
      ]
    },
    {
      "cell_type": "code",
      "metadata": {
        "colab": {
          "base_uri": "https://localhost:8080/"
        },
        "id": "pyqRdZ-xWboK",
        "outputId": "8b87f11d-4732-4c33-db24-79f96a798e1c"
      },
      "source": [
        "from google.colab import drive\n",
        "drive.mount('/content/drive')"
      ],
      "execution_count": null,
      "outputs": [
        {
          "output_type": "stream",
          "text": [
            "Mounted at /content/drive\n"
          ],
          "name": "stdout"
        }
      ]
    },
    {
      "cell_type": "code",
      "metadata": {
        "id": "saFE1tpqvn0v"
      },
      "source": [
        "posts=[]\n",
        "labels=[]\n",
        "control_counter = 0\n",
        "\n",
        "with open(\"/content/drive/MyDrive/Thesis Papers/SMHD/train.jl\", \"rb\") as f:\n",
        "  for line in f:\n",
        "\n",
        "    item = ijson.items(line,'posts.item.text',multiple_values=True)\n",
        "    label = ijson.items(line,'label.item',multiple_values=True)\n",
        "    s=\"\"\n",
        "\n",
        "    for f,val in enumerate(label):\n",
        "\n",
        "      if (val == 'control' and control_counter < 3800):\n",
        "          control_counter +=1\n",
        "          labels.append(val)\n",
        "          for i in item:\n",
        "            s=s+preprocess_text(i)+\" \"\n",
        "          posts.append(s)\n",
        "      else:\n",
        "        if (check(val)):\n",
        "          labels.append(val)\n",
        "\n",
        "          if f > 0 and s!=\"\":\n",
        "            posts.append(s)\n",
        "\n",
        "          else:\n",
        "            for i in item:\n",
        "              s=s+preprocess_text(i)+\" \"\n",
        "\n",
        "            posts.append(s)\n",
        "\n",
        "    # c = c+1"
      ],
      "execution_count": null,
      "outputs": []
    },
    {
      "cell_type": "code",
      "metadata": {
        "colab": {
          "base_uri": "https://localhost:8080/"
        },
        "id": "UKB4Y0g0FHRh",
        "outputId": "a8eafd7a-4ebd-47d3-daa9-42eea03239bb"
      },
      "source": [
        "len(labels)"
      ],
      "execution_count": null,
      "outputs": [
        {
          "output_type": "execute_result",
          "data": {
            "text/plain": [
              "8444"
            ]
          },
          "metadata": {
            "tags": []
          },
          "execution_count": 11
        }
      ]
    },
    {
      "cell_type": "code",
      "metadata": {
        "colab": {
          "base_uri": "https://localhost:8080/"
        },
        "id": "BRxsqb3kFKJ-",
        "outputId": "08252830-0f9b-48bd-9c20-34f4e7e73804"
      },
      "source": [
        "len(posts)"
      ],
      "execution_count": null,
      "outputs": [
        {
          "output_type": "execute_result",
          "data": {
            "text/plain": [
              "8444"
            ]
          },
          "metadata": {
            "tags": []
          },
          "execution_count": 12
        }
      ]
    },
    {
      "cell_type": "code",
      "metadata": {
        "colab": {
          "base_uri": "https://localhost:8080/"
        },
        "id": "pRDtKX8RYk8X",
        "outputId": "602a546d-3842-4e81-cc85-943aed144307"
      },
      "source": [
        "Counter(labels)"
      ],
      "execution_count": null,
      "outputs": [
        {
          "output_type": "execute_result",
          "data": {
            "text/plain": [
              "Counter({'bipolar': 1216,\n",
              "         'control': 3800,\n",
              "         'depression': 2662,\n",
              "         'ptsd': 528,\n",
              "         'schizophrenia': 238})"
            ]
          },
          "metadata": {
            "tags": []
          },
          "execution_count": 13
        }
      ]
    },
    {
      "cell_type": "code",
      "metadata": {
        "id": "xIRGwhnRYpf3"
      },
      "source": [
        "control_counter = 0\n",
        "with open(\"/content/drive/MyDrive/Thesis Papers/SMHD/test.jl\", \"rb\") as f:\n",
        "  for line in f:\n",
        "\n",
        "    item = ijson.items(line,'posts.item.text',multiple_values=True)\n",
        "    label = ijson.items(line,'label.item',multiple_values=True)\n",
        "    s=\"\"\n",
        "\n",
        "    for f,val in enumerate(label):\n",
        "\n",
        "      if (val == 'control' and control_counter < 3800):\n",
        "          control_counter +=1\n",
        "          labels.append(val)\n",
        "          for i in item:\n",
        "            s=s+preprocess_text(i)+\" \"\n",
        "          posts.append(s)\n",
        "      else:\n",
        "        if (check(val)):\n",
        "          labels.append(val)\n",
        "\n",
        "          if f > 0 and s!=\"\":\n",
        "            posts.append(s)\n",
        "\n",
        "          else:\n",
        "            for i in item:\n",
        "              s=s+preprocess_text(i)+\" \"\n",
        "\n",
        "            posts.append(s)"
      ],
      "execution_count": null,
      "outputs": []
    },
    {
      "cell_type": "code",
      "metadata": {
        "colab": {
          "base_uri": "https://localhost:8080/"
        },
        "id": "iEJBA5MbanXn",
        "outputId": "b048c365-d75e-4de5-b76c-dc86cfbda34b"
      },
      "source": [
        "Counter(labels)"
      ],
      "execution_count": null,
      "outputs": [
        {
          "output_type": "execute_result",
          "data": {
            "text/plain": [
              "Counter({'bipolar': 2463,\n",
              "         'control': 7600,\n",
              "         'depression': 5273,\n",
              "         'ptsd': 1086,\n",
              "         'schizophrenia': 505})"
            ]
          },
          "metadata": {
            "tags": []
          },
          "execution_count": 15
        }
      ]
    },
    {
      "cell_type": "code",
      "metadata": {
        "id": "9hoFFGUUaqhf"
      },
      "source": [
        "control_counter = 0\n",
        "with open(\"/content/drive/MyDrive/Thesis Papers/SMHD/dev.jl\", \"rb\") as f:\n",
        "  for line in f:\n",
        "\n",
        "    item = ijson.items(line,'posts.item.text',multiple_values=True)\n",
        "    label = ijson.items(line,'label.item',multiple_values=True)\n",
        "    s=\"\"\n",
        "\n",
        "    for f,val in enumerate(label):\n",
        "\n",
        "      if (val == 'control' and control_counter < 3800):\n",
        "          control_counter +=1\n",
        "          labels.append(val)\n",
        "          for i in item:\n",
        "            s=s+preprocess_text(i)+\" \"\n",
        "          posts.append(s)\n",
        "      else:\n",
        "        if (check(val)):\n",
        "          labels.append(val)\n",
        "\n",
        "          if f > 0 and s!=\"\":\n",
        "            posts.append(s)\n",
        "\n",
        "          else:\n",
        "            for i in item:\n",
        "              s=s+preprocess_text(i)+\" \"\n",
        "\n",
        "            posts.append(s)"
      ],
      "execution_count": null,
      "outputs": []
    },
    {
      "cell_type": "code",
      "metadata": {
        "colab": {
          "base_uri": "https://localhost:8080/"
        },
        "id": "HqQ5GzIRcC1_",
        "outputId": "dabe4c55-6676-4fb4-e16a-7b4e808610db"
      },
      "source": [
        "Counter(labels)"
      ],
      "execution_count": null,
      "outputs": [
        {
          "output_type": "execute_result",
          "data": {
            "text/plain": [
              "Counter({'bipolar': 3645,\n",
              "         'control': 11400,\n",
              "         'depression': 7847,\n",
              "         'ptsd': 1602,\n",
              "         'schizophrenia': 783})"
            ]
          },
          "metadata": {
            "tags": []
          },
          "execution_count": 17
        }
      ]
    },
    {
      "cell_type": "code",
      "metadata": {
        "id": "bWYQ4GzdcRpp"
      },
      "source": [
        "control_counter = 0\n",
        "with open(\"/content/drive/MyDrive/Thesis Papers/SMHD/lt9controls.jl\", \"rb\") as f:\n",
        "  for line in f:\n",
        "\n",
        "    item = ijson.items(line,'posts.item.text',multiple_values=True)\n",
        "    label = ijson.items(line,'label.item',multiple_values=True)\n",
        "    s=\"\"\n",
        "\n",
        "    for f,val in enumerate(label):\n",
        "\n",
        "      if (val == 'control' and control_counter < 3802):\n",
        "          control_counter +=1\n",
        "          labels.append(val)\n",
        "          for i in item:\n",
        "            s=s+preprocess_text(i)+\" \"\n",
        "          posts.append(s)\n",
        "      else:\n",
        "        if (check(val)):\n",
        "          labels.append(val)\n",
        "\n",
        "          if f > 0 and s!=\"\":\n",
        "            posts.append(s)\n",
        "\n",
        "          else:\n",
        "            for i in item:\n",
        "              s=s+preprocess_text(i)+\" \"\n",
        "\n",
        "            posts.append(s)"
      ],
      "execution_count": null,
      "outputs": []
    },
    {
      "cell_type": "code",
      "metadata": {
        "colab": {
          "base_uri": "https://localhost:8080/"
        },
        "id": "ZjsxloJbeT9S",
        "outputId": "5953e11c-d624-41fa-cc0a-fdcc1b72d851"
      },
      "source": [
        "Counter(labels)"
      ],
      "execution_count": null,
      "outputs": [
        {
          "output_type": "execute_result",
          "data": {
            "text/plain": [
              "Counter({'bipolar': 6434,\n",
              "         'control': 11400,\n",
              "         'depression': 14139,\n",
              "         'ptsd': 2894,\n",
              "         'schizophrenia': 1331})"
            ]
          },
          "metadata": {
            "tags": []
          },
          "execution_count": 21
        }
      ]
    },
    {
      "cell_type": "code",
      "metadata": {
        "id": "3a7QYufgfNMh"
      },
      "source": [
        "control_counter = 0\n",
        "control_passed = 0\n",
        "with open(\"/content/drive/MyDrive/Thesis Papers/SMHD/dev.jl\", \"rb\") as f:\n",
        "  for line in f:\n",
        "\n",
        "    item = ijson.items(line,'posts.item.text',multiple_values=True)\n",
        "    label = ijson.items(line,'label.item',multiple_values=True)\n",
        "    s=\"\"\n",
        "\n",
        "    for f,val in enumerate(label):\n",
        "      if(val == \"control\" and control_passed < 3800):\n",
        "        control_passed += 1\n",
        "        continue\n",
        "\n",
        "      if (val == 'control' and control_counter < 1267):\n",
        "          control_counter +=1\n",
        "          labels.append(val)\n",
        "          for i in item:\n",
        "            s=s+preprocess_text(i)+\" \"\n",
        "          posts.append(s)\n",
        "      if(control_counter >= 1267):\n",
        "        break"
      ],
      "execution_count": null,
      "outputs": []
    },
    {
      "cell_type": "code",
      "metadata": {
        "colab": {
          "base_uri": "https://localhost:8080/"
        },
        "id": "ADSUMHK3pBJB",
        "outputId": "200647cd-9576-44aa-f10a-8f6063f7e7ef"
      },
      "source": [
        "Counter(labels)"
      ],
      "execution_count": null,
      "outputs": [
        {
          "output_type": "execute_result",
          "data": {
            "text/plain": [
              "Counter({'bipolar': 6434,\n",
              "         'control': 12667,\n",
              "         'depression': 14139,\n",
              "         'ptsd': 2894,\n",
              "         'schizophrenia': 1331})"
            ]
          },
          "metadata": {
            "tags": []
          },
          "execution_count": 33
        }
      ]
    },
    {
      "cell_type": "code",
      "metadata": {
        "id": "lgDR9nRnpKKb"
      },
      "source": [
        "control_counter = 0\n",
        "control_passed = 0\n",
        "with open(\"/content/drive/MyDrive/Thesis Papers/SMHD/train.jl\", \"rb\") as f:\n",
        "  for line in f:\n",
        "    if(control_counter >= 1267):\n",
        "      break\n",
        "\n",
        "    item = ijson.items(line,'posts.item.text',multiple_values=True)\n",
        "    label = ijson.items(line,'label.item',multiple_values=True)\n",
        "    s=\"\"\n",
        "\n",
        "    for f,val in enumerate(label):\n",
        "      if(val == \"control\" and control_passed < 3800):\n",
        "        control_passed += 1\n",
        "        continue\n",
        "\n",
        "      if (val == 'control' and control_counter < 1267):\n",
        "          control_counter +=1\n",
        "          labels.append(val)\n",
        "          for i in item:\n",
        "            s=s+preprocess_text(i)+\" \"\n",
        "          posts.append(s)"
      ],
      "execution_count": null,
      "outputs": []
    },
    {
      "cell_type": "code",
      "metadata": {
        "colab": {
          "base_uri": "https://localhost:8080/"
        },
        "id": "Q_ZgBSJFpiuz",
        "outputId": "9ed4a18a-5132-4a48-9241-cbd8dd285144"
      },
      "source": [
        "Counter(labels)"
      ],
      "execution_count": null,
      "outputs": [
        {
          "output_type": "execute_result",
          "data": {
            "text/plain": [
              "Counter({'bipolar': 6434,\n",
              "         'control': 13934,\n",
              "         'depression': 14139,\n",
              "         'ptsd': 2894,\n",
              "         'schizophrenia': 1331})"
            ]
          },
          "metadata": {
            "tags": []
          },
          "execution_count": 35
        }
      ]
    },
    {
      "cell_type": "code",
      "metadata": {
        "id": "Y2UrLjoPppXL"
      },
      "source": [
        "control_counter = 0\n",
        "control_passed = 0\n",
        "with open(\"/content/drive/MyDrive/Thesis Papers/SMHD/test.jl\", \"rb\") as f:\n",
        "  for line in f:\n",
        "    if(control_counter >= 1268):\n",
        "      break\n",
        "\n",
        "    item = ijson.items(line,'posts.item.text',multiple_values=True)\n",
        "    label = ijson.items(line,'label.item',multiple_values=True)\n",
        "    s=\"\"\n",
        "\n",
        "    for f,val in enumerate(label):\n",
        "      if(val == \"control\" and control_passed < 3800):\n",
        "        control_passed += 1\n",
        "        continue\n",
        "\n",
        "      if (val == 'control' and control_counter < 1268):\n",
        "          control_counter +=1\n",
        "          labels.append(val)\n",
        "          for i in item:\n",
        "            s=s+preprocess_text(i)+\" \"\n",
        "          posts.append(s)"
      ],
      "execution_count": null,
      "outputs": []
    },
    {
      "cell_type": "code",
      "metadata": {
        "colab": {
          "base_uri": "https://localhost:8080/"
        },
        "id": "V8fSki7Hp3it",
        "outputId": "8600ed2e-bce3-417d-f9d1-6cda156ee890"
      },
      "source": [
        "len(labels)"
      ],
      "execution_count": null,
      "outputs": [
        {
          "output_type": "execute_result",
          "data": {
            "text/plain": [
              "40000"
            ]
          },
          "metadata": {
            "tags": []
          },
          "execution_count": 37
        }
      ]
    },
    {
      "cell_type": "code",
      "metadata": {
        "colab": {
          "base_uri": "https://localhost:8080/"
        },
        "id": "qkYZgzpdp5gF",
        "outputId": "88a14b33-8c32-4f1f-8006-a2bf4209c450"
      },
      "source": [
        "len(posts)"
      ],
      "execution_count": null,
      "outputs": [
        {
          "output_type": "execute_result",
          "data": {
            "text/plain": [
              "40000"
            ]
          },
          "metadata": {
            "tags": []
          },
          "execution_count": 38
        }
      ]
    },
    {
      "cell_type": "code",
      "metadata": {
        "id": "C5BAM1mWUmsc"
      },
      "source": [
        "df = pd.DataFrame({\"Posts\": posts, \"Label\": labels})"
      ],
      "execution_count": null,
      "outputs": []
    },
    {
      "cell_type": "code",
      "metadata": {
        "id": "tvxakoOdqtwX"
      },
      "source": [
        "df.to_csv('/content/drive/MyDrive/Thesis Papers/SMHD/final_cleaned_data2.csv', index=False)"
      ],
      "execution_count": null,
      "outputs": []
    },
    {
      "cell_type": "code",
      "metadata": {
        "id": "WqT-Ae3_vMKf"
      },
      "source": [
        "import pandas as pd"
      ],
      "execution_count": null,
      "outputs": []
    },
    {
      "cell_type": "code",
      "metadata": {
        "colab": {
          "base_uri": "https://localhost:8080/"
        },
        "id": "iMMMwaDrvStd",
        "outputId": "6db70477-2c45-49e2-a5bb-962c0f6315ad"
      },
      "source": [
        "labels = ['control','control', 'bipolar', 'ptsd', 'depression', 'schizophrenia', 'depression', 'ptsd', 'bipolar', 'bilpoar','control']\n",
        "posts = ['Lorem ipsum dolor sit amet, consectetur adipisicing elit, sed do eiusmod tempor incididunt ut labore et dolore magna aliqua. Ut enim ad minim veniam, quis nostrud exercitation ullamco laboris nisi ut aliquip ex ea commodoconsequat. Duis aute irure dolor in reprehenderit in voluptate velit esse']\n",
        "for i in range(10):\n",
        "  posts.append(posts[0])\n",
        "print(len(labels),len(posts))"
      ],
      "execution_count": null,
      "outputs": [
        {
          "output_type": "stream",
          "text": [
            "11 11\n"
          ],
          "name": "stdout"
        }
      ]
    },
    {
      "cell_type": "code",
      "metadata": {
        "id": "nNOdFcZMvW8N"
      },
      "source": [
        "df = pd.DataFrame({\"Label\": labels, \"Posts\": posts})"
      ],
      "execution_count": null,
      "outputs": []
    },
    {
      "cell_type": "code",
      "metadata": {
        "colab": {
          "base_uri": "https://localhost:8080/",
          "height": 375
        },
        "id": "wieGcjVWwrEf",
        "outputId": "86d382ef-318a-4f07-b5bb-5caa83eb5628"
      },
      "source": [
        "df.head(11)"
      ],
      "execution_count": null,
      "outputs": [
        {
          "output_type": "execute_result",
          "data": {
            "text/html": [
              "<div>\n",
              "<style scoped>\n",
              "    .dataframe tbody tr th:only-of-type {\n",
              "        vertical-align: middle;\n",
              "    }\n",
              "\n",
              "    .dataframe tbody tr th {\n",
              "        vertical-align: top;\n",
              "    }\n",
              "\n",
              "    .dataframe thead th {\n",
              "        text-align: right;\n",
              "    }\n",
              "</style>\n",
              "<table border=\"1\" class=\"dataframe\">\n",
              "  <thead>\n",
              "    <tr style=\"text-align: right;\">\n",
              "      <th></th>\n",
              "      <th>Label</th>\n",
              "      <th>Posts</th>\n",
              "    </tr>\n",
              "  </thead>\n",
              "  <tbody>\n",
              "    <tr>\n",
              "      <th>0</th>\n",
              "      <td>control</td>\n",
              "      <td>Lorem ipsum dolor sit amet, consectetur adipis...</td>\n",
              "    </tr>\n",
              "    <tr>\n",
              "      <th>1</th>\n",
              "      <td>control</td>\n",
              "      <td>Lorem ipsum dolor sit amet, consectetur adipis...</td>\n",
              "    </tr>\n",
              "    <tr>\n",
              "      <th>2</th>\n",
              "      <td>bipolar</td>\n",
              "      <td>Lorem ipsum dolor sit amet, consectetur adipis...</td>\n",
              "    </tr>\n",
              "    <tr>\n",
              "      <th>3</th>\n",
              "      <td>ptsd</td>\n",
              "      <td>Lorem ipsum dolor sit amet, consectetur adipis...</td>\n",
              "    </tr>\n",
              "    <tr>\n",
              "      <th>4</th>\n",
              "      <td>depression</td>\n",
              "      <td>Lorem ipsum dolor sit amet, consectetur adipis...</td>\n",
              "    </tr>\n",
              "    <tr>\n",
              "      <th>5</th>\n",
              "      <td>schizophrenia</td>\n",
              "      <td>Lorem ipsum dolor sit amet, consectetur adipis...</td>\n",
              "    </tr>\n",
              "    <tr>\n",
              "      <th>6</th>\n",
              "      <td>depression</td>\n",
              "      <td>Lorem ipsum dolor sit amet, consectetur adipis...</td>\n",
              "    </tr>\n",
              "    <tr>\n",
              "      <th>7</th>\n",
              "      <td>ptsd</td>\n",
              "      <td>Lorem ipsum dolor sit amet, consectetur adipis...</td>\n",
              "    </tr>\n",
              "    <tr>\n",
              "      <th>8</th>\n",
              "      <td>bipolar</td>\n",
              "      <td>Lorem ipsum dolor sit amet, consectetur adipis...</td>\n",
              "    </tr>\n",
              "    <tr>\n",
              "      <th>9</th>\n",
              "      <td>bilpoar</td>\n",
              "      <td>Lorem ipsum dolor sit amet, consectetur adipis...</td>\n",
              "    </tr>\n",
              "    <tr>\n",
              "      <th>10</th>\n",
              "      <td>control</td>\n",
              "      <td>Lorem ipsum dolor sit amet, consectetur adipis...</td>\n",
              "    </tr>\n",
              "  </tbody>\n",
              "</table>\n",
              "</div>"
            ],
            "text/plain": [
              "            Label                                              Posts\n",
              "0         control  Lorem ipsum dolor sit amet, consectetur adipis...\n",
              "1         control  Lorem ipsum dolor sit amet, consectetur adipis...\n",
              "2         bipolar  Lorem ipsum dolor sit amet, consectetur adipis...\n",
              "3            ptsd  Lorem ipsum dolor sit amet, consectetur adipis...\n",
              "4      depression  Lorem ipsum dolor sit amet, consectetur adipis...\n",
              "5   schizophrenia  Lorem ipsum dolor sit amet, consectetur adipis...\n",
              "6      depression  Lorem ipsum dolor sit amet, consectetur adipis...\n",
              "7            ptsd  Lorem ipsum dolor sit amet, consectetur adipis...\n",
              "8         bipolar  Lorem ipsum dolor sit amet, consectetur adipis...\n",
              "9         bilpoar  Lorem ipsum dolor sit amet, consectetur adipis...\n",
              "10        control  Lorem ipsum dolor sit amet, consectetur adipis..."
            ]
          },
          "metadata": {
            "tags": []
          },
          "execution_count": 10
        }
      ]
    },
    {
      "cell_type": "code",
      "metadata": {
        "id": "32bpOQGswrzF"
      },
      "source": [
        ""
      ],
      "execution_count": null,
      "outputs": []
    }
  ]
}