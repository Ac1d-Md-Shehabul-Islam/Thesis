{
  "nbformat": 4,
  "nbformat_minor": 0,
  "metadata": {
    "colab": {
      "name": "SVM.ipynb",
      "provenance": [],
      "collapsed_sections": []
    },
    "kernelspec": {
      "display_name": "Python 3",
      "name": "python3"
    },
    "accelerator": "GPU"
  },
  "cells": [
    {
      "cell_type": "code",
      "source": [
        "import tensorflow as tf\n",
        "tf.test.gpu_device_name()"
      ],
      "metadata": {
        "colab": {
          "base_uri": "https://localhost:8080/",
          "height": 35
        },
        "id": "rQ6jEQXGOTmq",
        "outputId": "d7bdb8a8-7b9b-4c0f-9fbe-4091ff85893b"
      },
      "execution_count": null,
      "outputs": [
        {
          "output_type": "execute_result",
          "data": {
            "application/vnd.google.colaboratory.intrinsic+json": {
              "type": "string"
            },
            "text/plain": [
              "'/device:GPU:0'"
            ]
          },
          "metadata": {},
          "execution_count": 2
        }
      ]
    },
    {
      "cell_type": "code",
      "metadata": {
        "id": "rjrWGkAY-SNQ"
      },
      "source": [
        "import pandas as pd\n",
        "# from sklearn.model_selection import KFold"
      ],
      "execution_count": null,
      "outputs": []
    },
    {
      "cell_type": "code",
      "metadata": {
        "id": "mXmN4reGVk0b"
      },
      "source": [
        "df = pd.DataFrame(columns=[\"Label\",\"Posts\"])"
      ],
      "execution_count": null,
      "outputs": []
    },
    {
      "cell_type": "code",
      "metadata": {
        "id": "hFFYKbQm-KTL"
      },
      "source": [
        "chunksize = 5000\n",
        "for chunk in pd.read_csv(\"/content/drive/MyDrive/Thesis Papers/SMHD/final_cleaned_data.csv\", chunksize=chunksize):\n",
        "  df=df.append(chunk,ignore_index=True)"
      ],
      "execution_count": null,
      "outputs": []
    },
    {
      "cell_type": "code",
      "metadata": {
        "colab": {
          "base_uri": "https://localhost:8080/"
        },
        "id": "5_4dYJsuBJqQ",
        "outputId": "27d1770e-e139-480c-c7ff-5a72f938ffa1"
      },
      "source": [
        "from google.colab import drive\n",
        "drive.mount('/content/drive')"
      ],
      "execution_count": null,
      "outputs": [
        {
          "output_type": "stream",
          "name": "stdout",
          "text": [
            "Mounted at /content/drive\n"
          ]
        }
      ]
    },
    {
      "cell_type": "code",
      "metadata": {
        "colab": {
          "base_uri": "https://localhost:8080/"
        },
        "id": "bJ2uvReHJgo7",
        "outputId": "cd7cae6a-789e-4714-c67f-305ac026d403"
      },
      "source": [
        "df[\"Label\"].value_counts()"
      ],
      "execution_count": null,
      "outputs": [
        {
          "output_type": "execute_result",
          "data": {
            "text/plain": [
              "control          26602\n",
              "depression       21830\n",
              "bipolar          10005\n",
              "ptsd              4471\n",
              "schizophrenia     2092\n",
              "Name: Label, dtype: int64"
            ]
          },
          "metadata": {},
          "execution_count": 9
        }
      ]
    },
    {
      "cell_type": "code",
      "metadata": {
        "id": "-b_F84DN2YvM"
      },
      "source": [
        "df_c = df[df[\"Label\"] == \"control\"]\n",
        "df_d = df[df[\"Label\"] == \"ptsd\"]\n",
        "\n",
        "df_c = df_c.sample(frac = 1)\n",
        "df_c = df_c.sample(frac = 1).iloc[0:3000,]  #control 3k\n",
        "df_d = df_d.sample(frac = 1)  # 4471 ptsd\n",
        "# df_d = df_d.sample(frac = 1).iloc[0:5000,]\n",
        "\n",
        "# df_c = df_c.iloc[0:5000,]\n",
        "# df_d = df_d.iloc[0:5000,] "
      ],
      "execution_count": null,
      "outputs": []
    },
    {
      "cell_type": "markdown",
      "source": [
        "# "
      ],
      "metadata": {
        "id": "FwyM4wVuRl3h"
      }
    },
    {
      "cell_type": "code",
      "metadata": {
        "id": "E-9AgFFyBtE3"
      },
      "source": [
        "def stripstr(x):\n",
        "  return len(x.strip())==0"
      ],
      "execution_count": null,
      "outputs": []
    },
    {
      "cell_type": "code",
      "metadata": {
        "id": "4ta6wa2qBt9P"
      },
      "source": [
        "result = pd.concat([df_c, df_d], ignore_index=True, sort=False)\n",
        "empty = result[result[\"Posts\"].apply(stripstr)]\n",
        "indexarr = empty.index\n",
        "result.drop(index = indexarr, inplace=True)"
      ],
      "execution_count": null,
      "outputs": []
    },
    {
      "cell_type": "code",
      "metadata": {
        "id": "mFPeTqimHzgl"
      },
      "source": [
        "result = result.sample(frac = 1)"
      ],
      "execution_count": null,
      "outputs": []
    },
    {
      "cell_type": "code",
      "metadata": {
        "id": "kCcByLb-uV7W",
        "colab": {
          "base_uri": "https://localhost:8080/"
        },
        "outputId": "92c9d5fd-0fab-4284-f619-bd0f12df3e79"
      },
      "source": [
        "import re\n",
        "import pandas as pd\n",
        "\n",
        "import nltk\n",
        "nltk.download('stopwords')\n",
        "\n",
        "stopwords = nltk.corpus.stopwords.words('english')\n",
        "wn = nltk.WordNetLemmatizer()\n",
        "nltk.download('wordnet')"
      ],
      "execution_count": null,
      "outputs": [
        {
          "output_type": "stream",
          "name": "stdout",
          "text": [
            "[nltk_data] Downloading package stopwords to /root/nltk_data...\n",
            "[nltk_data]   Unzipping corpora/stopwords.zip.\n",
            "[nltk_data] Downloading package wordnet to /root/nltk_data...\n",
            "[nltk_data]   Unzipping corpora/wordnet.zip.\n"
          ]
        },
        {
          "output_type": "execute_result",
          "data": {
            "text/plain": [
              "True"
            ]
          },
          "metadata": {},
          "execution_count": 14
        }
      ]
    },
    {
      "cell_type": "code",
      "metadata": {
        "id": "kF-IkiZu2ACH"
      },
      "source": [
        "def tokenize(txt):\n",
        "  tokens = re.split('\\W+',txt) # W means non-word characters and + means one or more [\"hello\", 'my']\n",
        "  return tokens\n",
        "\n",
        "def lemmed(txt):\n",
        "  text = [wn.lemmatize(word) for word in txt]\n",
        "  return text\n",
        "\n",
        "def remove_stopwords(txt):\n",
        "  clean_msg = [word for word in txt if word not in stopwords]\n",
        "  return clean_msg"
      ],
      "execution_count": null,
      "outputs": []
    },
    {
      "cell_type": "code",
      "metadata": {
        "id": "Kmg_W5P8BFZ6",
        "colab": {
          "base_uri": "https://localhost:8080/",
          "height": 175
        },
        "outputId": "d08a800a-4e0c-4717-9103-a6d4fdfb2faf"
      },
      "source": [
        "result.describe()"
      ],
      "execution_count": null,
      "outputs": [
        {
          "output_type": "execute_result",
          "data": {
            "text/html": [
              "<div>\n",
              "<style scoped>\n",
              "    .dataframe tbody tr th:only-of-type {\n",
              "        vertical-align: middle;\n",
              "    }\n",
              "\n",
              "    .dataframe tbody tr th {\n",
              "        vertical-align: top;\n",
              "    }\n",
              "\n",
              "    .dataframe thead th {\n",
              "        text-align: right;\n",
              "    }\n",
              "</style>\n",
              "<table border=\"1\" class=\"dataframe\">\n",
              "  <thead>\n",
              "    <tr style=\"text-align: right;\">\n",
              "      <th></th>\n",
              "      <th>Label</th>\n",
              "      <th>Posts</th>\n",
              "    </tr>\n",
              "  </thead>\n",
              "  <tbody>\n",
              "    <tr>\n",
              "      <th>count</th>\n",
              "      <td>7447</td>\n",
              "      <td>7447</td>\n",
              "    </tr>\n",
              "    <tr>\n",
              "      <th>unique</th>\n",
              "      <td>2</td>\n",
              "      <td>5733</td>\n",
              "    </tr>\n",
              "    <tr>\n",
              "      <th>top</th>\n",
              "      <td>ptsd</td>\n",
              "      <td>thank you much appreciated d yesssssss  hey e...</td>\n",
              "    </tr>\n",
              "    <tr>\n",
              "      <th>freq</th>\n",
              "      <td>4471</td>\n",
              "      <td>2</td>\n",
              "    </tr>\n",
              "  </tbody>\n",
              "</table>\n",
              "</div>"
            ],
            "text/plain": [
              "       Label                                              Posts\n",
              "count   7447                                               7447\n",
              "unique     2                                               5733\n",
              "top     ptsd   thank you much appreciated d yesssssss  hey e...\n",
              "freq    4471                                                  2"
            ]
          },
          "metadata": {},
          "execution_count": 16
        }
      ]
    },
    {
      "cell_type": "code",
      "metadata": {
        "id": "V-C7hwc4CLfW"
      },
      "source": [
        "result['Posts'] = result['Posts'].apply(lambda x: tokenize(x))\n",
        "result['Posts'] = result['Posts'].apply(remove_stopwords)\n",
        "result['Posts'] = result['Posts'].apply(lemmed)\n",
        "result[\"Posts\"]=result[\"Posts\"].apply(lambda x: \" \".join(x))"
      ],
      "execution_count": null,
      "outputs": []
    },
    {
      "cell_type": "code",
      "metadata": {
        "colab": {
          "base_uri": "https://localhost:8080/",
          "height": 424
        },
        "id": "TiEfxU6YGgW_",
        "outputId": "c2399551-6ca3-4073-b833-9e9c7bf3eaa9"
      },
      "source": [
        "result"
      ],
      "execution_count": null,
      "outputs": [
        {
          "output_type": "execute_result",
          "data": {
            "text/html": [
              "<div>\n",
              "<style scoped>\n",
              "    .dataframe tbody tr th:only-of-type {\n",
              "        vertical-align: middle;\n",
              "    }\n",
              "\n",
              "    .dataframe tbody tr th {\n",
              "        vertical-align: top;\n",
              "    }\n",
              "\n",
              "    .dataframe thead th {\n",
              "        text-align: right;\n",
              "    }\n",
              "</style>\n",
              "<table border=\"1\" class=\"dataframe\">\n",
              "  <thead>\n",
              "    <tr style=\"text-align: right;\">\n",
              "      <th></th>\n",
              "      <th>Label</th>\n",
              "      <th>Posts</th>\n",
              "    </tr>\n",
              "  </thead>\n",
              "  <tbody>\n",
              "    <tr>\n",
              "      <th>1224</th>\n",
              "      <td>control</td>\n",
              "      <td>get every always take next level month break ...</td>\n",
              "    </tr>\n",
              "    <tr>\n",
              "      <th>6456</th>\n",
              "      <td>ptsd</td>\n",
              "      <td>thanks shout original poster haha sorry long w...</td>\n",
              "    </tr>\n",
              "    <tr>\n",
              "      <th>4435</th>\n",
              "      <td>ptsd</td>\n",
              "      <td>really happen really shocking thing creepy mo...</td>\n",
              "    </tr>\n",
              "    <tr>\n",
              "      <th>3466</th>\n",
              "      <td>ptsd</td>\n",
              "      <td>hmmsounds super shady therapist would recomme...</td>\n",
              "    </tr>\n",
              "    <tr>\n",
              "      <th>7037</th>\n",
              "      <td>ptsd</td>\n",
              "      <td>first close heart attack read thing honestly e...</td>\n",
              "    </tr>\n",
              "    <tr>\n",
              "      <th>...</th>\n",
              "      <td>...</td>\n",
              "      <td>...</td>\n",
              "    </tr>\n",
              "    <tr>\n",
              "      <th>1453</th>\n",
              "      <td>control</td>\n",
              "      <td>whenever attempt made record paranormal activi...</td>\n",
              "    </tr>\n",
              "    <tr>\n",
              "      <th>6958</th>\n",
              "      <td>ptsd</td>\n",
              "      <td>chrissy marry fuck kill mario kart super mario...</td>\n",
              "    </tr>\n",
              "    <tr>\n",
              "      <th>3730</th>\n",
              "      <td>ptsd</td>\n",
              "      <td>hear fine thank feeling aba therapy isnt liter...</td>\n",
              "    </tr>\n",
              "    <tr>\n",
              "      <th>5388</th>\n",
              "      <td>ptsd</td>\n",
              "      <td>thank everyone feedback appreciate wasnt hars...</td>\n",
              "    </tr>\n",
              "    <tr>\n",
              "      <th>6980</th>\n",
              "      <td>ptsd</td>\n",
              "      <td>remember image inspired studing almost year ag...</td>\n",
              "    </tr>\n",
              "  </tbody>\n",
              "</table>\n",
              "<p>7447 rows × 2 columns</p>\n",
              "</div>"
            ],
            "text/plain": [
              "        Label                                              Posts\n",
              "1224  control   get every always take next level month break ...\n",
              "6456     ptsd  thanks shout original poster haha sorry long w...\n",
              "4435     ptsd   really happen really shocking thing creepy mo...\n",
              "3466     ptsd   hmmsounds super shady therapist would recomme...\n",
              "7037     ptsd  first close heart attack read thing honestly e...\n",
              "...       ...                                                ...\n",
              "1453  control  whenever attempt made record paranormal activi...\n",
              "6958     ptsd  chrissy marry fuck kill mario kart super mario...\n",
              "3730     ptsd  hear fine thank feeling aba therapy isnt liter...\n",
              "5388     ptsd   thank everyone feedback appreciate wasnt hars...\n",
              "6980     ptsd  remember image inspired studing almost year ag...\n",
              "\n",
              "[7447 rows x 2 columns]"
            ]
          },
          "metadata": {},
          "execution_count": 29
        }
      ]
    },
    {
      "cell_type": "code",
      "metadata": {
        "id": "ENy0Dq5LCVJ0"
      },
      "source": [
        "from sklearn.model_selection import train_test_split\n",
        "from sklearn.model_selection import GridSearchCV"
      ],
      "execution_count": null,
      "outputs": []
    },
    {
      "cell_type": "code",
      "metadata": {
        "id": "GgRDMr0hDTp-"
      },
      "source": [
        "param_grid = {\n",
        "    \"C\" : [10,80],\n",
        "    \"gamma\" : [1, 0.01],\n",
        "    \"kernel\" : [\"rbf\", \"poly\"]\n",
        "}"
      ],
      "execution_count": null,
      "outputs": []
    },
    {
      "cell_type": "code",
      "metadata": {
        "id": "Kh-B3L17JUNd"
      },
      "source": [
        "from sklearn.feature_extraction.text import TfidfVectorizer\n",
        "cv = TfidfVectorizer(max_features=4000)\n",
        "X = cv.fit_transform(result[\"Posts\"]).toarray() # all the contents"
      ],
      "execution_count": null,
      "outputs": []
    },
    {
      "cell_type": "code",
      "metadata": {
        "id": "ncnICa4MLKnp"
      },
      "source": [
        "y=result[\"Label\"]    #all the labels "
      ],
      "execution_count": null,
      "outputs": []
    },
    {
      "cell_type": "code",
      "metadata": {
        "id": "TCQRxGjCLkdF"
      },
      "source": [
        "Y = y.to_numpy() #numpy array representation of labels"
      ],
      "execution_count": null,
      "outputs": []
    },
    {
      "cell_type": "code",
      "metadata": {
        "id": "V8LAsKFECdcz"
      },
      "source": [
        "x_train,x_test,y_train,y_test=train_test_split(X,Y,test_size=0.3,random_state=42)     # x_train is 70% trainig dta, y_train 70% t-label, "
      ],
      "execution_count": null,
      "outputs": []
    },
    {
      "cell_type": "code",
      "metadata": {
        "id": "qOKTBmb9bdYT"
      },
      "source": [
        "# def cut(sen, length = 3000):\n",
        "#   content = sen.split()\n",
        "#   if len(content) <= length:\n",
        "#     return \" \".join(i for i in content if i not in stop)\n",
        "\n",
        "#   return \" \".join(i for i in content[0:length] if i not in stop)\n",
        "\n",
        "# filter1=df[\"Label\"].isin([\"control\",\"depression\"])\n",
        "# df_cd=df[filter1]"
      ],
      "execution_count": null,
      "outputs": []
    },
    {
      "cell_type": "markdown",
      "metadata": {
        "id": "lq-cpse8P5Yx"
      },
      "source": [
        "# SVM"
      ]
    },
    {
      "cell_type": "code",
      "metadata": {
        "id": "1ijKkCWEXIk4"
      },
      "source": [
        "from sklearn.pipeline import Pipeline\n",
        "from sklearn.svm import SVC\n",
        "from sklearn import metrics"
      ],
      "execution_count": null,
      "outputs": []
    },
    {
      "cell_type": "code",
      "metadata": {
        "id": "T4isCgaYEib4"
      },
      "source": [
        "model = SVC(C=80, gamma = 0.01, kernel = 'rbf')# c=50, g=0.001, kernel=rbf pre=0.9"
      ],
      "execution_count": null,
      "outputs": []
    },
    {
      "cell_type": "code",
      "metadata": {
        "colab": {
          "base_uri": "https://localhost:8080/"
        },
        "id": "xe_OO8tAqpDd",
        "outputId": "6711e6d5-1bbe-4412-aa14-4c6d98ac3b85"
      },
      "source": [
        "model.fit(x_train, y_train)"
      ],
      "execution_count": null,
      "outputs": [
        {
          "output_type": "execute_result",
          "data": {
            "text/plain": [
              "SVC(C=80, gamma=0.01)"
            ]
          },
          "metadata": {},
          "execution_count": 38
        }
      ]
    },
    {
      "cell_type": "code",
      "metadata": {
        "id": "WJq71pZDribz"
      },
      "source": [
        "predictions = model.predict(x_test)"
      ],
      "execution_count": null,
      "outputs": []
    },
    {
      "cell_type": "code",
      "metadata": {
        "colab": {
          "base_uri": "https://localhost:8080/"
        },
        "id": "GYe5b9v5rt4C",
        "outputId": "31b5c1c5-2cc7-4b30-f74a-c919b8321216"
      },
      "source": [
        "print(metrics.classification_report(y_test,predictions))"
      ],
      "execution_count": null,
      "outputs": [
        {
          "output_type": "stream",
          "name": "stdout",
          "text": [
            "              precision    recall  f1-score   support\n",
            "\n",
            "     control       0.86      0.87      0.87       930\n",
            "        ptsd       0.91      0.90      0.90      1305\n",
            "\n",
            "    accuracy                           0.89      2235\n",
            "   macro avg       0.89      0.89      0.89      2235\n",
            "weighted avg       0.89      0.89      0.89      2235\n",
            "\n"
          ]
        }
      ]
    },
    {
      "cell_type": "code",
      "metadata": {
        "id": "pkRb9uaJh2zp"
      },
      "source": [
        "grid = GridSearchCV(model, param_grid, refit = True)"
      ],
      "execution_count": null,
      "outputs": []
    },
    {
      "cell_type": "code",
      "metadata": {
        "colab": {
          "base_uri": "https://localhost:8080/"
        },
        "id": "q7x2BcTxURRS",
        "outputId": "bcf3e201-e3aa-4750-e31c-b034650d0266"
      },
      "source": [
        "%tensorflow_version 2.x\n",
        "import tensorflow as tf\n",
        "device_name = tf.test.gpu_device_name()\n",
        "if device_name != '/device:GPU:0':\n",
        "  raise SystemError('GPU device not found')\n",
        "print('Found GPU at: {}'.format(device_name))"
      ],
      "execution_count": null,
      "outputs": [
        {
          "output_type": "stream",
          "text": [
            "Found GPU at: /device:GPU:0\n"
          ],
          "name": "stdout"
        }
      ]
    },
    {
      "cell_type": "code",
      "metadata": {
        "id": "NkLv-DaNMUSp"
      },
      "source": [
        "grid.fit(x_train,y_train)"
      ],
      "execution_count": null,
      "outputs": []
    },
    {
      "cell_type": "code",
      "metadata": {
        "id": "Opd6LudIDwLU"
      },
      "source": [
        "# text_clf=Pipeline([(\"tfidf\", TfidfVectorizer()),(\"clf\", LinearSVC(random_state=0, tol=1e-5))])\n",
        "# text_clf.fit(x_train,y_train)"
      ],
      "execution_count": null,
      "outputs": []
    },
    {
      "cell_type": "code",
      "metadata": {
        "id": "O8g4Gw7oGAaU"
      },
      "source": [
        "predictions = text_clf.predict(x_test)"
      ],
      "execution_count": null,
      "outputs": []
    },
    {
      "cell_type": "code",
      "metadata": {
        "colab": {
          "base_uri": "https://localhost:8080/"
        },
        "id": "lg_SP-KmGXZL",
        "outputId": "437eb436-0b3b-4972-826a-7820a317a165"
      },
      "source": [
        "print(metrics.confusion_matrix(y_test,predictions))"
      ],
      "execution_count": null,
      "outputs": [
        {
          "output_type": "stream",
          "text": [
            "[[1241  271]\n",
            " [ 322 1166]]\n"
          ],
          "name": "stdout"
        }
      ]
    },
    {
      "cell_type": "code",
      "metadata": {
        "colab": {
          "base_uri": "https://localhost:8080/"
        },
        "id": "6PaFm0iKHAHA",
        "outputId": "da1c6f68-e9e1-43af-846f-2e85eb324c7a"
      },
      "source": [
        "print(metrics.classification_report(y_test,predictions))"
      ],
      "execution_count": null,
      "outputs": [
        {
          "output_type": "stream",
          "text": [
            "              precision    recall  f1-score   support\n",
            "\n",
            "     control       0.79      0.82      0.81      1512\n",
            "  depression       0.81      0.78      0.80      1488\n",
            "\n",
            "    accuracy                           0.80      3000\n",
            "   macro avg       0.80      0.80      0.80      3000\n",
            "weighted avg       0.80      0.80      0.80      3000\n",
            "\n"
          ],
          "name": "stdout"
        }
      ]
    },
    {
      "cell_type": "code",
      "metadata": {
        "colab": {
          "base_uri": "https://localhost:8080/"
        },
        "id": "YB4Sl-O9LFxO",
        "outputId": "d396fd4c-9692-4c82-b076-ff6f673e343c"
      },
      "source": [
        "print(metrics.accuracy_score(y_test,predictions))"
      ],
      "execution_count": null,
      "outputs": [
        {
          "output_type": "stream",
          "text": [
            "0.8023333333333333\n"
          ],
          "name": "stdout"
        }
      ]
    }
  ]
}